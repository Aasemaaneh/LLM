{
 "cells": [
  {
   "cell_type": "markdown",
   "metadata": {},
   "source": [
    "# Movie Reviews Data Preprocessing\n",
    "In this task, you will be given a dataset (imdb_movie_reviews.csv) focused on movie reviews. You will work on this dataset to:\n",
    "\n",
    "Remove punctuation (using string punctuations)\n",
    "\n",
    "Tokenize the text (using .split() function)\n",
    "\n",
    "Remove stop words(using nltk stopwords)"
   ]
  },
  {
   "cell_type": "code",
   "execution_count": 1,
   "metadata": {},
   "outputs": [],
   "source": [
    "import pandas as pd\n",
    "import numpy as np\n"
   ]
  },
  {
   "cell_type": "code",
   "execution_count": 2,
   "metadata": {},
   "outputs": [
    {
     "data": {
      "text/html": [
       "<div>\n",
       "<style scoped>\n",
       "    .dataframe tbody tr th:only-of-type {\n",
       "        vertical-align: middle;\n",
       "    }\n",
       "\n",
       "    .dataframe tbody tr th {\n",
       "        vertical-align: top;\n",
       "    }\n",
       "\n",
       "    .dataframe thead th {\n",
       "        text-align: right;\n",
       "    }\n",
       "</style>\n",
       "<table border=\"1\" class=\"dataframe\">\n",
       "  <thead>\n",
       "    <tr style=\"text-align: right;\">\n",
       "      <th></th>\n",
       "      <th>label</th>\n",
       "      <th>review</th>\n",
       "    </tr>\n",
       "  </thead>\n",
       "  <tbody>\n",
       "    <tr>\n",
       "      <th>0</th>\n",
       "      <td>negative</td>\n",
       "      <td>In the ten years since Wildside aired, nothing...</td>\n",
       "    </tr>\n",
       "    <tr>\n",
       "      <th>1</th>\n",
       "      <td>positive</td>\n",
       "      <td>This is a better-than-average entry in the Sai...</td>\n",
       "    </tr>\n",
       "    <tr>\n",
       "      <th>2</th>\n",
       "      <td>negative</td>\n",
       "      <td>\"The Mayor Of Hell\" has the feel of an early D...</td>\n",
       "    </tr>\n",
       "    <tr>\n",
       "      <th>3</th>\n",
       "      <td>positive</td>\n",
       "      <td>This is a really great short from Hal Roach. T...</td>\n",
       "    </tr>\n",
       "    <tr>\n",
       "      <th>4</th>\n",
       "      <td>positive</td>\n",
       "      <td>A rather charming depiction of European union ...</td>\n",
       "    </tr>\n",
       "    <tr>\n",
       "      <th>...</th>\n",
       "      <td>...</td>\n",
       "      <td>...</td>\n",
       "    </tr>\n",
       "    <tr>\n",
       "      <th>49995</th>\n",
       "      <td>negative</td>\n",
       "      <td>The mountainous woods, young happy campers, a ...</td>\n",
       "    </tr>\n",
       "    <tr>\n",
       "      <th>49996</th>\n",
       "      <td>negative</td>\n",
       "      <td>Maybe my rating should have been a 9, but the ...</td>\n",
       "    </tr>\n",
       "    <tr>\n",
       "      <th>49997</th>\n",
       "      <td>positive</td>\n",
       "      <td>Hitchcock would be proud of this movie. Even w...</td>\n",
       "    </tr>\n",
       "    <tr>\n",
       "      <th>49998</th>\n",
       "      <td>negative</td>\n",
       "      <td>Clearly patterned after the first gangster mov...</td>\n",
       "    </tr>\n",
       "    <tr>\n",
       "      <th>49999</th>\n",
       "      <td>positive</td>\n",
       "      <td>There are two ways to turn a TV series into a ...</td>\n",
       "    </tr>\n",
       "  </tbody>\n",
       "</table>\n",
       "<p>50000 rows × 2 columns</p>\n",
       "</div>"
      ],
      "text/plain": [
       "          label                                             review\n",
       "0      negative  In the ten years since Wildside aired, nothing...\n",
       "1      positive  This is a better-than-average entry in the Sai...\n",
       "2      negative  \"The Mayor Of Hell\" has the feel of an early D...\n",
       "3      positive  This is a really great short from Hal Roach. T...\n",
       "4      positive  A rather charming depiction of European union ...\n",
       "...         ...                                                ...\n",
       "49995  negative  The mountainous woods, young happy campers, a ...\n",
       "49996  negative  Maybe my rating should have been a 9, but the ...\n",
       "49997  positive  Hitchcock would be proud of this movie. Even w...\n",
       "49998  negative  Clearly patterned after the first gangster mov...\n",
       "49999  positive  There are two ways to turn a TV series into a ...\n",
       "\n",
       "[50000 rows x 2 columns]"
      ]
     },
     "execution_count": 2,
     "metadata": {},
     "output_type": "execute_result"
    }
   ],
   "source": [
    "data=pd.read_csv('imdb_movie_reviews.csv')\n",
    "data"
   ]
  },
  {
   "cell_type": "code",
   "execution_count": 3,
   "metadata": {},
   "outputs": [
    {
     "data": {
      "text/html": [
       "<div>\n",
       "<style scoped>\n",
       "    .dataframe tbody tr th:only-of-type {\n",
       "        vertical-align: middle;\n",
       "    }\n",
       "\n",
       "    .dataframe tbody tr th {\n",
       "        vertical-align: top;\n",
       "    }\n",
       "\n",
       "    .dataframe thead th {\n",
       "        text-align: right;\n",
       "    }\n",
       "</style>\n",
       "<table border=\"1\" class=\"dataframe\">\n",
       "  <thead>\n",
       "    <tr style=\"text-align: right;\">\n",
       "      <th></th>\n",
       "      <th>label</th>\n",
       "      <th>review</th>\n",
       "    </tr>\n",
       "  </thead>\n",
       "  <tbody>\n",
       "    <tr>\n",
       "      <th>count</th>\n",
       "      <td>50000</td>\n",
       "      <td>50000</td>\n",
       "    </tr>\n",
       "    <tr>\n",
       "      <th>unique</th>\n",
       "      <td>2</td>\n",
       "      <td>24884</td>\n",
       "    </tr>\n",
       "    <tr>\n",
       "      <th>top</th>\n",
       "      <td>negative</td>\n",
       "      <td>Loved today's show!!! It was a variety and not...</td>\n",
       "    </tr>\n",
       "    <tr>\n",
       "      <th>freq</th>\n",
       "      <td>25000</td>\n",
       "      <td>10</td>\n",
       "    </tr>\n",
       "  </tbody>\n",
       "</table>\n",
       "</div>"
      ],
      "text/plain": [
       "           label                                             review\n",
       "count      50000                                              50000\n",
       "unique         2                                              24884\n",
       "top     negative  Loved today's show!!! It was a variety and not...\n",
       "freq       25000                                                 10"
      ]
     },
     "execution_count": 3,
     "metadata": {},
     "output_type": "execute_result"
    }
   ],
   "source": [
    "data.describe()"
   ]
  },
  {
   "cell_type": "markdown",
   "metadata": {},
   "source": [
    "### Removing Punctuation\n"
   ]
  },
  {
   "cell_type": "code",
   "execution_count": 4,
   "metadata": {},
   "outputs": [
    {
     "data": {
      "text/plain": [
       "'!\"#$%&\\'()*+,-./:;<=>?@[\\\\]^_`{|}~'"
      ]
     },
     "execution_count": 4,
     "metadata": {},
     "output_type": "execute_result"
    }
   ],
   "source": [
    "import string\n",
    "\n",
    "string.punctuation"
   ]
  },
  {
   "cell_type": "code",
   "execution_count": 5,
   "metadata": {},
   "outputs": [],
   "source": [
    "def remove_punctuation(review):\n",
    "    review = \"\".join([char for char in review if char not in string.punctuation])\n",
    "    return review"
   ]
  },
  {
   "cell_type": "code",
   "execution_count": 6,
   "metadata": {},
   "outputs": [],
   "source": [
    "data['review_no_punct'] = data['review'].apply(lambda x: remove_punctuation(x))"
   ]
  },
  {
   "cell_type": "markdown",
   "metadata": {},
   "source": [
    "### Tokenization\n",
    "we will now tokenize the movie reviews by creating a list of words from the reviews that have had punctuation removed. It is also customary to make sure that all letters are lowercase to reduce the size of the vocabulary due to differences in capitalization.\n"
   ]
  },
  {
   "cell_type": "code",
   "execution_count": 7,
   "metadata": {},
   "outputs": [],
   "source": [
    "#Step 1: Create a function that takes a review as an argument and returns a list of lowercase individual words.\n",
    "\n",
    "def tokenize(review):\n",
    "    # Split the review into individual words\n",
    "    tokens = review.lower().split()\n",
    "    return tokens\n"
   ]
  },
  {
   "cell_type": "code",
   "execution_count": 8,
   "metadata": {},
   "outputs": [],
   "source": [
    "#Step 2: Using a lambda function, create a new column in your DataFrame with tokenized movie reviews from the reviews with no punctuation.\n",
    "data['tokens_no_punct']=data['review_no_punct'].apply(lambda x: tokenize(x))"
   ]
  },
  {
   "cell_type": "code",
   "execution_count": 9,
   "metadata": {},
   "outputs": [
    {
     "data": {
      "text/html": [
       "<div>\n",
       "<style scoped>\n",
       "    .dataframe tbody tr th:only-of-type {\n",
       "        vertical-align: middle;\n",
       "    }\n",
       "\n",
       "    .dataframe tbody tr th {\n",
       "        vertical-align: top;\n",
       "    }\n",
       "\n",
       "    .dataframe thead th {\n",
       "        text-align: right;\n",
       "    }\n",
       "</style>\n",
       "<table border=\"1\" class=\"dataframe\">\n",
       "  <thead>\n",
       "    <tr style=\"text-align: right;\">\n",
       "      <th></th>\n",
       "      <th>label</th>\n",
       "      <th>review</th>\n",
       "      <th>review_no_punct</th>\n",
       "      <th>tokens_no_punct</th>\n",
       "    </tr>\n",
       "  </thead>\n",
       "  <tbody>\n",
       "    <tr>\n",
       "      <th>0</th>\n",
       "      <td>negative</td>\n",
       "      <td>In the ten years since Wildside aired, nothing...</td>\n",
       "      <td>In the ten years since Wildside aired nothing ...</td>\n",
       "      <td>[in, the, ten, years, since, wildside, aired, ...</td>\n",
       "    </tr>\n",
       "    <tr>\n",
       "      <th>1</th>\n",
       "      <td>positive</td>\n",
       "      <td>This is a better-than-average entry in the Sai...</td>\n",
       "      <td>This is a betterthanaverage entry in the Saint...</td>\n",
       "      <td>[this, is, a, betterthanaverage, entry, in, th...</td>\n",
       "    </tr>\n",
       "    <tr>\n",
       "      <th>2</th>\n",
       "      <td>negative</td>\n",
       "      <td>\"The Mayor Of Hell\" has the feel of an early D...</td>\n",
       "      <td>The Mayor Of Hell has the feel of an early Dea...</td>\n",
       "      <td>[the, mayor, of, hell, has, the, feel, of, an,...</td>\n",
       "    </tr>\n",
       "    <tr>\n",
       "      <th>3</th>\n",
       "      <td>positive</td>\n",
       "      <td>This is a really great short from Hal Roach. T...</td>\n",
       "      <td>This is a really great short from Hal Roach Th...</td>\n",
       "      <td>[this, is, a, really, great, short, from, hal,...</td>\n",
       "    </tr>\n",
       "    <tr>\n",
       "      <th>4</th>\n",
       "      <td>positive</td>\n",
       "      <td>A rather charming depiction of European union ...</td>\n",
       "      <td>A rather charming depiction of European union ...</td>\n",
       "      <td>[a, rather, charming, depiction, of, european,...</td>\n",
       "    </tr>\n",
       "    <tr>\n",
       "      <th>...</th>\n",
       "      <td>...</td>\n",
       "      <td>...</td>\n",
       "      <td>...</td>\n",
       "      <td>...</td>\n",
       "    </tr>\n",
       "    <tr>\n",
       "      <th>49995</th>\n",
       "      <td>negative</td>\n",
       "      <td>The mountainous woods, young happy campers, a ...</td>\n",
       "      <td>The mountainous woods young happy campers a wa...</td>\n",
       "      <td>[the, mountainous, woods, young, happy, camper...</td>\n",
       "    </tr>\n",
       "    <tr>\n",
       "      <th>49996</th>\n",
       "      <td>negative</td>\n",
       "      <td>Maybe my rating should have been a 9, but the ...</td>\n",
       "      <td>Maybe my rating should have been a 9 but the f...</td>\n",
       "      <td>[maybe, my, rating, should, have, been, a, 9, ...</td>\n",
       "    </tr>\n",
       "    <tr>\n",
       "      <th>49997</th>\n",
       "      <td>positive</td>\n",
       "      <td>Hitchcock would be proud of this movie. Even w...</td>\n",
       "      <td>Hitchcock would be proud of this movie Even wh...</td>\n",
       "      <td>[hitchcock, would, be, proud, of, this, movie,...</td>\n",
       "    </tr>\n",
       "    <tr>\n",
       "      <th>49998</th>\n",
       "      <td>negative</td>\n",
       "      <td>Clearly patterned after the first gangster mov...</td>\n",
       "      <td>Clearly patterned after the first gangster mov...</td>\n",
       "      <td>[clearly, patterned, after, the, first, gangst...</td>\n",
       "    </tr>\n",
       "    <tr>\n",
       "      <th>49999</th>\n",
       "      <td>positive</td>\n",
       "      <td>There are two ways to turn a TV series into a ...</td>\n",
       "      <td>There are two ways to turn a TV series into a ...</td>\n",
       "      <td>[there, are, two, ways, to, turn, a, tv, serie...</td>\n",
       "    </tr>\n",
       "  </tbody>\n",
       "</table>\n",
       "<p>50000 rows × 4 columns</p>\n",
       "</div>"
      ],
      "text/plain": [
       "          label                                             review  \\\n",
       "0      negative  In the ten years since Wildside aired, nothing...   \n",
       "1      positive  This is a better-than-average entry in the Sai...   \n",
       "2      negative  \"The Mayor Of Hell\" has the feel of an early D...   \n",
       "3      positive  This is a really great short from Hal Roach. T...   \n",
       "4      positive  A rather charming depiction of European union ...   \n",
       "...         ...                                                ...   \n",
       "49995  negative  The mountainous woods, young happy campers, a ...   \n",
       "49996  negative  Maybe my rating should have been a 9, but the ...   \n",
       "49997  positive  Hitchcock would be proud of this movie. Even w...   \n",
       "49998  negative  Clearly patterned after the first gangster mov...   \n",
       "49999  positive  There are two ways to turn a TV series into a ...   \n",
       "\n",
       "                                         review_no_punct  \\\n",
       "0      In the ten years since Wildside aired nothing ...   \n",
       "1      This is a betterthanaverage entry in the Saint...   \n",
       "2      The Mayor Of Hell has the feel of an early Dea...   \n",
       "3      This is a really great short from Hal Roach Th...   \n",
       "4      A rather charming depiction of European union ...   \n",
       "...                                                  ...   \n",
       "49995  The mountainous woods young happy campers a wa...   \n",
       "49996  Maybe my rating should have been a 9 but the f...   \n",
       "49997  Hitchcock would be proud of this movie Even wh...   \n",
       "49998  Clearly patterned after the first gangster mov...   \n",
       "49999  There are two ways to turn a TV series into a ...   \n",
       "\n",
       "                                         tokens_no_punct  \n",
       "0      [in, the, ten, years, since, wildside, aired, ...  \n",
       "1      [this, is, a, betterthanaverage, entry, in, th...  \n",
       "2      [the, mayor, of, hell, has, the, feel, of, an,...  \n",
       "3      [this, is, a, really, great, short, from, hal,...  \n",
       "4      [a, rather, charming, depiction, of, european,...  \n",
       "...                                                  ...  \n",
       "49995  [the, mountainous, woods, young, happy, camper...  \n",
       "49996  [maybe, my, rating, should, have, been, a, 9, ...  \n",
       "49997  [hitchcock, would, be, proud, of, this, movie,...  \n",
       "49998  [clearly, patterned, after, the, first, gangst...  \n",
       "49999  [there, are, two, ways, to, turn, a, tv, serie...  \n",
       "\n",
       "[50000 rows x 4 columns]"
      ]
     },
     "execution_count": 9,
     "metadata": {},
     "output_type": "execute_result"
    }
   ],
   "source": [
    "data"
   ]
  },
  {
   "cell_type": "markdown",
   "metadata": {},
   "source": [
    "### Stop Word Removal\n",
    "In this section, you will be removing stop words from the tokenized movie reviews. Stop words add little value to the meaning of the text in the context of NLP. To do this, you will need to use the NLTK. Explore the specific steps to remove stop words beginning with installing the toolkit."
   ]
  },
  {
   "cell_type": "code",
   "execution_count": 10,
   "metadata": {},
   "outputs": [],
   "source": [
    "from nltk.corpus import stopwords\n",
    "stop_words = stopwords.words('english')"
   ]
  },
  {
   "cell_type": "code",
   "execution_count": 11,
   "metadata": {},
   "outputs": [],
   "source": [
    "#Define a function that removes stop words from the tokenized reviews.\n",
    "def remove_stopwords(tokens): \n",
    "    tokens_no_stopwords = [word for word in tokens if word not in stop_words]\n",
    "\n",
    "    return tokens_no_stopwords"
   ]
  },
  {
   "cell_type": "code",
   "execution_count": 12,
   "metadata": {},
   "outputs": [],
   "source": [
    "data['tokens_no_stopwords']=data['tokens_no_punct'].apply(lambda x: remove_stopwords(x))"
   ]
  },
  {
   "cell_type": "markdown",
   "metadata": {},
   "source": [
    "compare the minimum, maximum, and average number of words from the tokenized reviews to the tokenized reviews with stop words removed."
   ]
  },
  {
   "cell_type": "markdown",
   "metadata": {},
   "source": [
    "## Statistical Analysis"
   ]
  },
  {
   "cell_type": "code",
   "execution_count": 13,
   "metadata": {},
   "outputs": [
    {
     "name": "stdout",
     "output_type": "stream",
     "text": [
      " Stats of the tokenized reviews length WITH stopwords :     MIN : 10.00, MAX : 2469.00, Average : 232.00\n",
      "Stats of of the tokenized reviews length WITHOUT stopwords : MIN : 6.00, MAX : 1449.00, Average : 124.06\n",
      "The percentage reduction in min length of the tokenized reviews with stopwords VS withOUT stopwords:        MIN%:   40.00%\n",
      "The percentage reduction in max length of the tokenized reviews with stopwords VS withOUT stopwords:        MAX%:  41.31%\n",
      "The percentage reduction in average length of the tokenized reviews with stopwords VS withOUT stopwords:    AVG%:    46.52%\n"
     ]
    }
   ],
   "source": [
    "# Calculate lengths\n",
    "length_no_punct = data['tokens_no_punct'].apply(len)\n",
    "length_no_stopwords = data['tokens_no_stopwords'].apply(len)\n",
    "\n",
    "# Calculate statistics\n",
    "min_no_punct = length_no_punct.min()\n",
    "max_no_punct = length_no_punct.max()\n",
    "mean_no_punct = length_no_punct.mean()\n",
    "min_no_stopwords = length_no_stopwords.min()\n",
    "max_no_stopwords = length_no_stopwords.max()\n",
    "mean_no_stopwords = length_no_stopwords.mean()\n",
    "\n",
    "\n",
    "print(f' Stats of the tokenized reviews length WITH stopwords :     MIN : {min_no_punct:.2f}, MAX : {max_no_punct:.2f}, Average : {mean_no_punct:.2f}')\n",
    "print(f'Stats of of the tokenized reviews length WITHOUT stopwords : MIN : {min_no_stopwords:.2f}, MAX : {max_no_stopwords:.2f}, Average : {mean_no_stopwords:.2f}')\n",
    "\n",
    "# Calculate percentage reductions\n",
    "percent_reduction_min = ((min_no_punct - min_no_stopwords) / min_no_punct) * 100\n",
    "percent_reduction_max = ((max_no_punct - max_no_stopwords) / max_no_punct) * 100\n",
    "percent_reduction_mean = ((mean_no_punct - mean_no_stopwords) / mean_no_punct) * 100\n",
    "\n",
    "# Print results\n",
    "print(f'The percentage reduction in min length of the tokenized reviews with stopwords VS withOUT stopwords:        MIN%:   {percent_reduction_min:.2f}%')\n",
    "print(f'The percentage reduction in max length of the tokenized reviews with stopwords VS withOUT stopwords:        MAX%:  {percent_reduction_max:.2f}%')\n",
    "print(f'The percentage reduction in average length of the tokenized reviews with stopwords VS withOUT stopwords:    AVG%:    {percent_reduction_mean:.2f}%')"
   ]
  },
  {
   "cell_type": "code",
   "execution_count": 14,
   "metadata": {},
   "outputs": [
    {
     "data": {
      "image/png": "[encoded data removed]",
      "text/plain": [
       "<Figure size 1800x600 with 2 Axes>"
      ]
     },
     "metadata": {},
     "output_type": "display_data"
    }
   ],
   "source": [
    "\n",
    "import matplotlib.pyplot as plt\n",
    "import seaborn as sns\n",
    "\n",
    "\n",
    "# Plot histograms\n",
    "plt.figure(figsize=(18, 6))\n",
    "\n",
    "\n",
    "plt.subplot(1, 2, 1)\n",
    "sns.histplot(length_no_punct, bins=50, color='orange', kde=True)\n",
    "plt.title('Length After Removing Punctuation')\n",
    "plt.xlabel('Number of Words')\n",
    "plt.ylabel('Frequency')\n",
    "\n",
    "plt.subplot(1, 2, 2)\n",
    "sns.histplot(length_no_stopwords, bins=50, color='green', kde=True)\n",
    "plt.title('Length After Removing Stop Words')\n",
    "plt.xlabel('Number of Words')\n",
    "plt.ylabel('Frequency')\n",
    "\n",
    "plt.tight_layout()\n",
    "plt.show()\n"
   ]
  },
  {
   "cell_type": "markdown",
   "metadata": {},
   "source": [
    "### Findings and Observations\n",
    "Removing Stopwords: Significantly reduces the length of tokenized reviews.\n",
    "Impact on Statistics: Both min and max lengths are reduced, with the average length showing the most substantial decrease.\n",
    "### Conclusion\n",
    "The data cleaning techniques have effectively reduced the length of tokenized reviews. These steps help in making the dataset more manageable and focused and reducing coputational costs."
   ]
  }
 ],
 "metadata": {
  "kernelspec": {
   "display_name": "Python (samenv)",
   "language": "python",
   "name": "your_env_name"
  },
  "language_info": {
   "codemirror_mode": {
    "name": "ipython",
    "version": 3
   },
   "file_extension": ".py",
   "mimetype": "text/x-python",
   "name": "python",
   "nbconvert_exporter": "python",
   "pygments_lexer": "ipython3",
   "version": "3.10.12"
  }
 },
 "nbformat": 4,
 "nbformat_minor": 2
}
